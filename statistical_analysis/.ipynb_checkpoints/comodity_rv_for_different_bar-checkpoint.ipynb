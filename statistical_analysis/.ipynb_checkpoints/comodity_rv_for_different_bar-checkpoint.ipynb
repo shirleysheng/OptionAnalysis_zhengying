{
 "cells": [
  {
   "cell_type": "code",
   "execution_count": 3,
   "metadata": {},
   "outputs": [],
   "source": [
    "import datetime\n",
    "import pandas as pd\n",
    "import numpy as np\n",
    "import pymysql\n",
    "import pymssql\n",
    "import os\n",
    "import time\n",
    "import statsmodels.api as sm\n",
    "from scipy.stats import norm\n",
    "import matplotlib.pyplot as plt\n",
    "pd.set_option('display.float_format',lambda x : '%.3f' % x)"
   ]
  },
  {
   "cell_type": "code",
   "execution_count": 2,
   "metadata": {},
   "outputs": [],
   "source": [
    "product_list = [\"M\", \"CF\", \"RU\", \"SR\", \"C\", \"CU\", \"I\", \"TA\", \"MA\", \"AU\", \"RM\",\"ZC\",\"PP\",\"L\",\"V\",\"ZN\",\"AL\"]\n",
    "trading_day = 245   \n",
    "bars_5m = 69\n",
    "bars_30m = 12\n",
    "start_date = str((datetime.datetime.today() - datetime.timedelta(days=300)).date())"
   ]
  },
  {
   "cell_type": "code",
   "execution_count": 3,
   "metadata": {},
   "outputs": [],
   "source": [
    "conn = pymysql.connect(\"192.168.10.6\", \"cta-reader\", \"cta-reader\",\"datacenter_futures\")"
   ]
  },
  {
   "cell_type": "code",
   "execution_count": 4,
   "metadata": {
    "scrolled": false
   },
   "outputs": [],
   "source": [
    "for product in product_list:\n",
    "    sql = \"select time,close,multiplier,instrumentid from futures_5m_continuing2 where productid='%s' and time>='%s' order by time\"%(product, start_date)\n",
    "    df = pd.read_sql(sql, conn)\n",
    "    df.rename(columns={\"time\":\"systemdate\"}, inplace=True)\n",
    "    df[\"close_adj\"] = df[\"close\"] * df[\"multiplier\"]\n",
    "    df[\"date\"] = df[\"systemdate\"].apply(lambda x:x.split(\" \")[0])\n",
    "    df[\"time\"] = df[\"systemdate\"].apply(lambda x:x.split(\" \")[1])\n",
    "    df[\"minite\"] = df[\"systemdate\"].apply(lambda x:int(x.split(\" \")[1].split(\":\")[1]))\n",
    "    \n",
    "    df_5m = df[(df[\"time\"]>\"06:00:00\") & (df[\"time\"]<=\"23:00:00\")].copy()\n",
    "    df_30m = df_5m[df_5m[\"minite\"]%30==5].copy()\n",
    "    df_eod = df_5m[df_5m[\"time\"]==\"14:55:00\"].copy()\n",
    "    \n",
    "    df_5m[\"ret\"] = np.log(df_5m[\"close_adj\"]/df_5m[\"close_adj\"].shift(1))\n",
    "    df_30m[\"ret\"] = np.log(df_30m[\"close_adj\"]/df_30m[\"close_adj\"].shift(1))\n",
    "    df_eod[\"ret\"] = np.log(df_eod[\"close_adj\"]/df_eod[\"close_adj\"].shift(1))\n",
    "    \n",
    "    date_set = np.sort(df_5m[\"date\"].unique())\n",
    "    \n",
    "    rv5_5m = np.sqrt(np.square(df_5m[df_5m[\"date\"].isin(date_set[-5:])][\"ret\"]).mean()*bars_5m*trading_day) #5日5分钟rv\n",
    "    pre_rv5_5m = np.sqrt(np.square(df_5m[df_5m[\"date\"].isin(date_set[-10:-5])][\"ret\"]).mean()*bars_5m*trading_day) #上一期5日5分钟rv\n",
    "    rv5_30m = np.sqrt(np.square(df_30m[df_30m[\"date\"].isin(date_set[-5:])][\"ret\"]).mean()*bars_30m*trading_day) #5日30分钟rv\n",
    "    rv5_eod = np.sqrt(np.square(df_eod[df_eod[\"date\"].isin(date_set[-5:])][\"ret\"]).mean()*trading_day) #5日HV\n",
    "    rv20_5m = np.sqrt(np.square(df_5m[df_5m[\"date\"].isin(date_set[-20:])][\"ret\"]).mean()*bars_5m*trading_day) #20日5分钟rv\n",
    "    rv20_30m = np.sqrt(np.square(df_30m[df_30m[\"date\"].isin(date_set[-20:])][\"ret\"]).mean()*bars_30m*trading_day) #20日30分钟rv\n",
    "    rv20_eod = np.sqrt(np.square(df_eod[df_eod[\"date\"].isin(date_set[-20:])][\"ret\"]).mean()*trading_day) #20日HV\n",
    "    \n",
    "    df_table = pd.DataFrame(np.array([rv5_5m, rv5_30m, rv5_eod, rv20_5m, rv20_30m, rv20_eod],ndmin=2), index=[product], columns=[[\"rv5_5m\", \"rv5_30m\", \"rv5_1d\", \"rv20_5m\", \"rv20_30m\", \"rv20_1d\"]])\n",
    "    if product == product_list[0]:\n",
    "        rv_table = df_table.copy()\n",
    "    else:\n",
    "        rv_table = pd.concat((rv_table, df_table))\n",
    "    "
   ]
  },
  {
   "cell_type": "code",
   "execution_count": 5,
   "metadata": {},
   "outputs": [
    {
     "data": {
      "text/html": [
       "<div>\n",
       "<style scoped>\n",
       "    .dataframe tbody tr th:only-of-type {\n",
       "        vertical-align: middle;\n",
       "    }\n",
       "\n",
       "    .dataframe tbody tr th {\n",
       "        vertical-align: top;\n",
       "    }\n",
       "\n",
       "    .dataframe thead tr th {\n",
       "        text-align: left;\n",
       "    }\n",
       "</style>\n",
       "<table border=\"1\" class=\"dataframe\">\n",
       "  <thead>\n",
       "    <tr>\n",
       "      <th></th>\n",
       "      <th>rv5_5m</th>\n",
       "      <th>rv5_30m</th>\n",
       "      <th>rv5_1d</th>\n",
       "      <th>rv20_5m</th>\n",
       "      <th>rv20_30m</th>\n",
       "      <th>rv20_1d</th>\n",
       "    </tr>\n",
       "  </thead>\n",
       "  <tbody>\n",
       "    <tr>\n",
       "      <th>M</th>\n",
       "      <td>0.180</td>\n",
       "      <td>0.150</td>\n",
       "      <td>0.184</td>\n",
       "      <td>0.172</td>\n",
       "      <td>0.153</td>\n",
       "      <td>0.154</td>\n",
       "    </tr>\n",
       "    <tr>\n",
       "      <th>CF</th>\n",
       "      <td>0.148</td>\n",
       "      <td>0.138</td>\n",
       "      <td>0.132</td>\n",
       "      <td>0.152</td>\n",
       "      <td>0.145</td>\n",
       "      <td>0.132</td>\n",
       "    </tr>\n",
       "    <tr>\n",
       "      <th>RU</th>\n",
       "      <td>0.267</td>\n",
       "      <td>0.252</td>\n",
       "      <td>0.200</td>\n",
       "      <td>0.288</td>\n",
       "      <td>0.274</td>\n",
       "      <td>0.311</td>\n",
       "    </tr>\n",
       "    <tr>\n",
       "      <th>SR</th>\n",
       "      <td>0.129</td>\n",
       "      <td>0.110</td>\n",
       "      <td>0.104</td>\n",
       "      <td>0.121</td>\n",
       "      <td>0.118</td>\n",
       "      <td>0.112</td>\n",
       "    </tr>\n",
       "    <tr>\n",
       "      <th>C</th>\n",
       "      <td>0.140</td>\n",
       "      <td>0.125</td>\n",
       "      <td>0.133</td>\n",
       "      <td>0.127</td>\n",
       "      <td>0.126</td>\n",
       "      <td>0.128</td>\n",
       "    </tr>\n",
       "    <tr>\n",
       "      <th>CU</th>\n",
       "      <td>0.191</td>\n",
       "      <td>0.195</td>\n",
       "      <td>0.082</td>\n",
       "      <td>0.168</td>\n",
       "      <td>0.165</td>\n",
       "      <td>0.167</td>\n",
       "    </tr>\n",
       "    <tr>\n",
       "      <th>I</th>\n",
       "      <td>0.496</td>\n",
       "      <td>0.422</td>\n",
       "      <td>0.528</td>\n",
       "      <td>0.358</td>\n",
       "      <td>0.322</td>\n",
       "      <td>0.349</td>\n",
       "    </tr>\n",
       "    <tr>\n",
       "      <th>TA</th>\n",
       "      <td>0.249</td>\n",
       "      <td>0.178</td>\n",
       "      <td>0.213</td>\n",
       "      <td>0.221</td>\n",
       "      <td>0.195</td>\n",
       "      <td>0.212</td>\n",
       "    </tr>\n",
       "    <tr>\n",
       "      <th>MA</th>\n",
       "      <td>0.307</td>\n",
       "      <td>0.254</td>\n",
       "      <td>0.439</td>\n",
       "      <td>0.258</td>\n",
       "      <td>0.245</td>\n",
       "      <td>0.284</td>\n",
       "    </tr>\n",
       "    <tr>\n",
       "      <th>AU</th>\n",
       "      <td>0.109</td>\n",
       "      <td>0.105</td>\n",
       "      <td>0.099</td>\n",
       "      <td>0.128</td>\n",
       "      <td>0.140</td>\n",
       "      <td>0.161</td>\n",
       "    </tr>\n",
       "    <tr>\n",
       "      <th>RM</th>\n",
       "      <td>0.170</td>\n",
       "      <td>0.154</td>\n",
       "      <td>0.219</td>\n",
       "      <td>0.177</td>\n",
       "      <td>0.161</td>\n",
       "      <td>0.180</td>\n",
       "    </tr>\n",
       "    <tr>\n",
       "      <th>ZC</th>\n",
       "      <td>0.385</td>\n",
       "      <td>0.354</td>\n",
       "      <td>0.288</td>\n",
       "      <td>0.314</td>\n",
       "      <td>0.302</td>\n",
       "      <td>0.306</td>\n",
       "    </tr>\n",
       "    <tr>\n",
       "      <th>PP</th>\n",
       "      <td>0.242</td>\n",
       "      <td>0.231</td>\n",
       "      <td>0.211</td>\n",
       "      <td>0.214</td>\n",
       "      <td>0.218</td>\n",
       "      <td>0.204</td>\n",
       "    </tr>\n",
       "    <tr>\n",
       "      <th>L</th>\n",
       "      <td>0.396</td>\n",
       "      <td>0.375</td>\n",
       "      <td>0.117</td>\n",
       "      <td>0.316</td>\n",
       "      <td>0.312</td>\n",
       "      <td>0.208</td>\n",
       "    </tr>\n",
       "    <tr>\n",
       "      <th>V</th>\n",
       "      <td>0.367</td>\n",
       "      <td>0.360</td>\n",
       "      <td>0.430</td>\n",
       "      <td>0.301</td>\n",
       "      <td>0.287</td>\n",
       "      <td>0.321</td>\n",
       "    </tr>\n",
       "    <tr>\n",
       "      <th>ZN</th>\n",
       "      <td>0.192</td>\n",
       "      <td>0.171</td>\n",
       "      <td>0.106</td>\n",
       "      <td>0.189</td>\n",
       "      <td>0.177</td>\n",
       "      <td>0.173</td>\n",
       "    </tr>\n",
       "    <tr>\n",
       "      <th>AL</th>\n",
       "      <td>0.205</td>\n",
       "      <td>0.195</td>\n",
       "      <td>0.221</td>\n",
       "      <td>0.197</td>\n",
       "      <td>0.192</td>\n",
       "      <td>0.235</td>\n",
       "    </tr>\n",
       "  </tbody>\n",
       "</table>\n",
       "</div>"
      ],
      "text/plain": [
       "   rv5_5m rv5_30m rv5_1d rv20_5m rv20_30m rv20_1d\n",
       "M   0.180   0.150  0.184   0.172    0.153   0.154\n",
       "CF  0.148   0.138  0.132   0.152    0.145   0.132\n",
       "RU  0.267   0.252  0.200   0.288    0.274   0.311\n",
       "SR  0.129   0.110  0.104   0.121    0.118   0.112\n",
       "C   0.140   0.125  0.133   0.127    0.126   0.128\n",
       "CU  0.191   0.195  0.082   0.168    0.165   0.167\n",
       "I   0.496   0.422  0.528   0.358    0.322   0.349\n",
       "TA  0.249   0.178  0.213   0.221    0.195   0.212\n",
       "MA  0.307   0.254  0.439   0.258    0.245   0.284\n",
       "AU  0.109   0.105  0.099   0.128    0.140   0.161\n",
       "RM  0.170   0.154  0.219   0.177    0.161   0.180\n",
       "ZC  0.385   0.354  0.288   0.314    0.302   0.306\n",
       "PP  0.242   0.231  0.211   0.214    0.218   0.204\n",
       "L   0.396   0.375  0.117   0.316    0.312   0.208\n",
       "V   0.367   0.360  0.430   0.301    0.287   0.321\n",
       "ZN  0.192   0.171  0.106   0.189    0.177   0.173\n",
       "AL  0.205   0.195  0.221   0.197    0.192   0.235"
      ]
     },
     "execution_count": 5,
     "metadata": {},
     "output_type": "execute_result"
    }
   ],
   "source": [
    "rv_table"
   ]
  },
  {
   "cell_type": "code",
   "execution_count": 6,
   "metadata": {},
   "outputs": [
    {
     "data": {
      "text/plain": [
       "'2020-12-16'"
      ]
     },
     "execution_count": 6,
     "metadata": {},
     "output_type": "execute_result"
    }
   ],
   "source": [
    "date_set[-1]"
   ]
  },
  {
   "cell_type": "code",
   "execution_count": 10,
   "metadata": {},
   "outputs": [
    {
     "data": {
      "image/png": "[encoded data removed]",
      "text/plain": [
       "<Figure size 432x288 with 1 Axes>"
      ]
     },
     "metadata": {
      "needs_background": "light"
     },
     "output_type": "display_data"
    }
   ],
   "source": [
    "plt.figure()\n",
    "plt.plot(df_eod[\"date\"],df_eod[\"close_adj\"])\n",
    "plt.show()"
   ]
  },
  {
   "cell_type": "code",
   "execution_count": 4,
   "metadata": {},
   "outputs": [
    {
     "data": {
      "image/png": "[encoded data removed]",
      "text/plain": [
       "<Figure size 432x288 with 2 Axes>"
      ]
     },
     "metadata": {
      "needs_background": "light"
     },
     "output_type": "display_data"
    }
   ],
   "source": [
    "fig, ax = plt.subplots(2,1)"
   ]
  }
 ],
 "metadata": {
  "kernelspec": {
   "display_name": "Python 3",
   "language": "python",
   "name": "python3"
  },
  "language_info": {
   "codemirror_mode": {
    "name": "ipython",
    "version": 3
   },
   "file_extension": ".py",
   "mimetype": "text/x-python",
   "name": "python",
   "nbconvert_exporter": "python",
   "pygments_lexer": "ipython3",
   "version": "3.8.5"
  }
 },
 "nbformat": 4,
 "nbformat_minor": 2
}
